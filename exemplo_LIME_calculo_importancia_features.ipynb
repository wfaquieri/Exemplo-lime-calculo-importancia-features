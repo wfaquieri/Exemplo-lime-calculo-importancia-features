{
 "cells": [
  {
   "cell_type": "markdown",
   "id": "f0d5bc20",
   "metadata": {},
   "source": [
    "## Explicando as previsões de um modelo com LIME: um exemplo de cálculo de importância de características\n",
    "\n",
    "- Projeto: Análise de importância de características em modelo de classificação com LIME\n",
    "\n",
    "\n",
    "\n",
    "\n",
    "---\n",
    "\n",
    "**Objetivo**: Desenvolver um modelo de machine learning que classifica se um paciente tem ou não uma determinada doença, com base em suas características, como idade, gênero, histórico médico, resultados de testes etc. Queremos usar o LIME para explicar por que o modelo classificou um determinado paciente como tendo a doença.\n",
    "\n",
    "---"
   ]
  },
  {
   "cell_type": "markdown",
   "id": "3ec4d915",
   "metadata": {},
   "source": [
    "> Nesse exemplo, criamos um modelo simples que classifica os pacientes com base em sua idade, e criamos uma nova amostra com a idade alterada em 2 anos. Em seguida, usamos o LIME para explicar a importância da idade na previsão do modelo, calculando a derivada parcial da previsão do modelo em relação à idade."
   ]
  },
  {
   "cell_type": "code",
   "execution_count": 1,
   "id": "d66c5e52",
   "metadata": {},
   "outputs": [],
   "source": [
    "import lime\n",
    "import lime.lime_tabular\n",
    "import numpy as np"
   ]
  },
  {
   "cell_type": "code",
   "execution_count": 7,
   "id": "4055b2aa",
   "metadata": {},
   "outputs": [],
   "source": [
    "# Criando um modelo de exemplo\n",
    "def predict_fn(x):\n",
    "    return np.column_stack([(x[:, 0] > 50).astype(int), 1 - (x[:, 0] > 50).astype(int)])\n",
    "\n",
    "# Criando amostras de dados de exemplo\n",
    "data = np.random.randint(0, 100, size=(100, 5))\n",
    "\n",
    "# Especificando as características\n",
    "feature_names = ['idade', 'sexo', 'pressão arterial', 'glicemia', 'colesterol']\n",
    "\n",
    "# Criando um objeto explicador do LIME\n",
    "explainer = lime.lime_tabular.LimeTabularExplainer(data, feature_names=feature_names, class_names=['Não', 'Sim'], discretize_continuous=False)\n",
    "\n",
    "# Criando uma nova amostra com idade alterada em 2 anos\n",
    "new_data = data.copy()\n",
    "new_data[:, 0] += 2\n",
    "\n",
    "# Obtendo as previsões para as amostras originais e a nova amostra\n",
    "original_preds = predict_fn(data)\n",
    "new_preds = predict_fn(new_data)"
   ]
  },
  {
   "cell_type": "markdown",
   "id": "44b85dea",
   "metadata": {},
   "source": [
    "> A linha exp = explainer.explain_instance(new_data[0], predict_fn, num_features=5) calcula a importância das cinco características mais relevantes na previsão do modelo para a nova amostra. A linha age_importance = exp.as_list()[0][1] obtém a importância da idade a partir da lista de importâncias retornada pelo LIME."
   ]
  },
  {
   "cell_type": "code",
   "execution_count": 11,
   "id": "47f662e1",
   "metadata": {},
   "outputs": [
    {
     "data": {
      "text/plain": [
       "[('idade', -0.46546278875695796),\n",
       " ('sexo', 0.0136130475168977),\n",
       " ('glicemia', -0.005174571831061595),\n",
       " ('colesterol', 0.001579964371325525),\n",
       " ('pressão arterial', 0.00047667378765386633)]"
      ]
     },
     "execution_count": 11,
     "metadata": {},
     "output_type": "execute_result"
    }
   ],
   "source": [
    "# Calculando a importância da idade usando o LIME\n",
    "exp = explainer.explain_instance(new_data[0], predict_fn, num_features=5)\n",
    "\n",
    "# Obtendo a importância da idade\n",
    "age_importance = exp.as_list()[0][1]\n",
    "\n",
    "exp.as_list()"
   ]
  },
  {
   "cell_type": "code",
   "execution_count": 10,
   "id": "4e71b25a",
   "metadata": {},
   "outputs": [
    {
     "name": "stdout",
     "output_type": "stream",
     "text": [
      "A importância da idade é: -0.46388716808645064\n"
     ]
    }
   ],
   "source": [
    "# Imprimindo a importância da idade\n",
    "print('A importância da idade é:', age_importance)"
   ]
  },
  {
   "cell_type": "markdown",
   "id": "3a8423c4",
   "metadata": {},
   "source": [
    "> O valor de -0.46546278875695796 é a derivada parcial da previsão do modelo em relação à idade. Tal resultado mostra a importância da idade para a previsão do modelo. Esse valor pode ser usado para identificar as características mais importantes para o modelo, ajudando a entender como o modelo toma suas decisões."
   ]
  }
 ],
 "metadata": {
  "kernelspec": {
   "display_name": "Python 3 (ipykernel)",
   "language": "python",
   "name": "python3"
  },
  "language_info": {
   "codemirror_mode": {
    "name": "ipython",
    "version": 3
   },
   "file_extension": ".py",
   "mimetype": "text/x-python",
   "name": "python",
   "nbconvert_exporter": "python",
   "pygments_lexer": "ipython3",
   "version": "3.9.12"
  }
 },
 "nbformat": 4,
 "nbformat_minor": 5
}
